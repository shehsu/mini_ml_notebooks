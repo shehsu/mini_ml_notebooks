{
 "cells": [
  {
   "cell_type": "markdown",
   "metadata": {},
   "source": [
    "# Introduction\n",
    "Using iris dataset to demonstrate nested cross validation."
   ]
  },
  {
   "cell_type": "code",
   "execution_count": 1,
   "metadata": {},
   "outputs": [],
   "source": [
    "import numpy as np\n",
    "from sklearn.datasets import load_iris, make_classification\n",
    "from sklearn.svm import SVC\n",
    "from sklearn.model_selection import LeaveOneGroupOut, KFold\n",
    "\n",
    "# Create the dataset\n",
    "iris = load_iris()\n",
    "X_iris = iris.data\n",
    "_, y_iris = make_classification(n_samples=iris.data.shape[0], random_state=10) # generate random binary labels\n",
    "groups = iris.target # use iris flower types as machine IDs\n",
    "\n",
    "# create a svm model\n",
    "svm = SVC(kernel=\"rbf\")\n",
    "\n",
    "\n",
    "# Create spliters\n",
    "outer_cv = LeaveOneGroupOut()\n",
    "inner_cv = KFold(n_splits=2, shuffle=True, random_state=10)\n",
    "\n",
    "nested_scores = {}\n",
    "\n",
    "for inx, (train_index, test_index) in enumerate(outer_cv.split(X_iris, y_iris, groups)):\n",
    "    X_inner = X_iris[train_index]\n",
    "    y_inner = y_iris[train_index]\n",
    "\n",
    "    best_model = None # TODO: use GridSearchCV\n",
    "    best_score = 0\n",
    "    for inner_train_index, inner_test_index in inner_cv.split(X_inner):\n",
    "        svm.fit(X_inner[inner_train_index], y_inner[inner_train_index])\n",
    "        current_score =  svm.score(X_inner[inner_test_index], y_inner[inner_test_index])\n",
    "        if current_score > best_score:\n",
    "            best_model = svm\n",
    "            best_score = current_score\n",
    "        \n",
    "    nested_scores[inx] = best_model.score(X_iris[test_index], y_iris[test_index])"
   ]
  },
  {
   "cell_type": "code",
   "execution_count": 2,
   "metadata": {},
   "outputs": [
    {
     "data": {
      "text/plain": [
       "{0: 0.54, 1: 0.52, 2: 0.52}"
      ]
     },
     "execution_count": 2,
     "metadata": {},
     "output_type": "execute_result"
    }
   ],
   "source": [
    "nested_scores"
   ]
  },
  {
   "cell_type": "markdown",
   "metadata": {},
   "source": [
    "# Using the wrapper, NestedCVWrapper"
   ]
  },
  {
   "cell_type": "code",
   "execution_count": 3,
   "metadata": {},
   "outputs": [],
   "source": [
    "from utils.cv_wrapper import NestedCVWrapper\n",
    "\n",
    "nestedCV = NestedCVWrapper(\n",
    "    LeaveOneGroupOut(), \n",
    "    KFold(n_splits=2, shuffle=True, random_state=10)\n",
    ")\n",
    "\n",
    "nestedCV.run(SVC(kernel=\"rbf\"), X_iris, y_iris, groups)"
   ]
  },
  {
   "cell_type": "code",
   "execution_count": 4,
   "metadata": {},
   "outputs": [
    {
     "data": {
      "text/plain": [
       "{0: 0.54, 1: 0.52, 2: 0.52}"
      ]
     },
     "execution_count": 4,
     "metadata": {},
     "output_type": "execute_result"
    }
   ],
   "source": [
    "nestedCV.nested_scores"
   ]
  },
  {
   "cell_type": "code",
   "execution_count": 5,
   "metadata": {},
   "outputs": [
    {
     "data": {
      "text/plain": [
       "{0: SVC(), 1: SVC(), 2: SVC()}"
      ]
     },
     "execution_count": 5,
     "metadata": {},
     "output_type": "execute_result"
    }
   ],
   "source": [
    "nestedCV.nested_models"
   ]
  },
  {
   "cell_type": "code",
   "execution_count": null,
   "metadata": {},
   "outputs": [],
   "source": []
  }
 ],
 "metadata": {
  "kernelspec": {
   "display_name": "Python 3",
   "language": "python",
   "name": "python3"
  },
  "language_info": {
   "codemirror_mode": {
    "name": "ipython",
    "version": 3
   },
   "file_extension": ".py",
   "mimetype": "text/x-python",
   "name": "python",
   "nbconvert_exporter": "python",
   "pygments_lexer": "ipython3",
   "version": "3.8.5"
  }
 },
 "nbformat": 4,
 "nbformat_minor": 5
}

{
 "cells": [
  {
   "cell_type": "markdown",
   "id": "e72bbcc9-ff36-4155-9d55-957e9d56a00d",
   "metadata": {},
   "source": [
    "# Introduction\n",
    "Describe what experiment is run in this notebook."
   ]
  },
  {
   "cell_type": "code",
   "execution_count": 1,
   "id": "5cd83b8a-8a5b-42fd-ba80-6c8d05bcc530",
   "metadata": {},
   "outputs": [],
   "source": [
    "# Add imports & variables here\n",
    "\n",
    "import pandas as pd\n",
    "import random\n",
    "import os\n",
    "\n",
    "from config import exp_configs # Hyperparameters set in config file\n",
    "\n",
    "PROJECT_FOLDER = '../'\n",
    "DATA_FOLDER = os.path.join(PROJECT_FOLDER, \"data\")\n",
    "MODEL_FOLDER = os.path.join(PROJECT_FOLDER, \"models\")\n",
    "model_majorVer = 1 # majorVer denotes which experiment is\n",
    "\n",
    "results = {}"
   ]
  },
  {
   "cell_type": "code",
   "execution_count": 2,
   "id": "cf475ed1-527e-4312-9c1f-8252163c9187",
   "metadata": {},
   "outputs": [
    {
     "data": {
      "text/html": [
       "<div>\n",
       "<style scoped>\n",
       "    .dataframe tbody tr th:only-of-type {\n",
       "        vertical-align: middle;\n",
       "    }\n",
       "\n",
       "    .dataframe tbody tr th {\n",
       "        vertical-align: top;\n",
       "    }\n",
       "\n",
       "    .dataframe thead th {\n",
       "        text-align: right;\n",
       "    }\n",
       "</style>\n",
       "<table border=\"1\" class=\"dataframe\">\n",
       "  <thead>\n",
       "    <tr style=\"text-align: right;\">\n",
       "      <th></th>\n",
       "      <th>param1</th>\n",
       "      <th>param2</th>\n",
       "      <th>description</th>\n",
       "    </tr>\n",
       "  </thead>\n",
       "  <tbody>\n",
       "    <tr>\n",
       "      <th>1</th>\n",
       "      <td>1</td>\n",
       "      <td>3</td>\n",
       "      <td>exp1</td>\n",
       "    </tr>\n",
       "    <tr>\n",
       "      <th>2</th>\n",
       "      <td>1</td>\n",
       "      <td>3</td>\n",
       "      <td>exp2</td>\n",
       "    </tr>\n",
       "    <tr>\n",
       "      <th>3</th>\n",
       "      <td>1</td>\n",
       "      <td>3</td>\n",
       "      <td>exp3</td>\n",
       "    </tr>\n",
       "  </tbody>\n",
       "</table>\n",
       "</div>"
      ],
      "text/plain": [
       "  param1 param2 description\n",
       "1      1      3        exp1\n",
       "2      1      3        exp2\n",
       "3      1      3        exp3"
      ]
     },
     "execution_count": 2,
     "metadata": {},
     "output_type": "execute_result"
    }
   ],
   "source": [
    "# (optinal) print configs if you want\n",
    "pd.DataFrame(exp_configs).T"
   ]
  },
  {
   "cell_type": "markdown",
   "id": "7a623d55-a465-4840-a7e1-ab0f6ce67e0c",
   "metadata": {},
   "source": [
    "# Load data"
   ]
  },
  {
   "cell_type": "code",
   "execution_count": 3,
   "id": "f0b5e890-c127-4abf-b868-46fd0f69eb70",
   "metadata": {},
   "outputs": [],
   "source": [
    "data = pd.read_csv(os.path.join(DATA_FOLDER, \"raw.csv\"))"
   ]
  },
  {
   "cell_type": "markdown",
   "id": "e247a7fe-413e-44c7-8785-1e2b5417101f",
   "metadata": {},
   "source": [
    "# Experiments"
   ]
  },
  {
   "cell_type": "code",
   "execution_count": 4,
   "id": "244d70c2-a731-428e-93d6-6e22045f8f2b",
   "metadata": {},
   "outputs": [],
   "source": [
    "for key, value in exp_configs.items():\n",
    "    \n",
    "    # insert the modeling codes here\n",
    "                             \n",
    "    # save models\n",
    "    model_path = os.path.join(MODEL_FOLDER, f\"{model_majorVer}.{key}\")\n",
    "    os.makedirs(model_path)                          \n",
    "    # e.g. model.save(os.path.join(model_path, \"model.pickle\"))\n",
    "                             \n",
    "    # write results\n",
    "    results[key] = {\n",
    "        \"accuracy\": random.uniform(0, 1),\n",
    "        \"precision\": random.uniform(0, 1),\n",
    "        \"recall\": random.uniform(0, 1),\n",
    "    }"
   ]
  },
  {
   "cell_type": "markdown",
   "id": "b89e26bf-c9c6-42d4-a299-258f4f6d4595",
   "metadata": {},
   "source": [
    "# Evaluate Results"
   ]
  },
  {
   "cell_type": "code",
   "execution_count": 5,
   "id": "3dd4ec9e-fae4-4008-addc-7eecb8060ab1",
   "metadata": {},
   "outputs": [
    {
     "data": {
      "text/html": [
       "<div>\n",
       "<style scoped>\n",
       "    .dataframe tbody tr th:only-of-type {\n",
       "        vertical-align: middle;\n",
       "    }\n",
       "\n",
       "    .dataframe tbody tr th {\n",
       "        vertical-align: top;\n",
       "    }\n",
       "\n",
       "    .dataframe thead th {\n",
       "        text-align: right;\n",
       "    }\n",
       "</style>\n",
       "<table border=\"1\" class=\"dataframe\">\n",
       "  <thead>\n",
       "    <tr style=\"text-align: right;\">\n",
       "      <th></th>\n",
       "      <th>accuracy</th>\n",
       "      <th>precision</th>\n",
       "      <th>recall</th>\n",
       "    </tr>\n",
       "  </thead>\n",
       "  <tbody>\n",
       "    <tr>\n",
       "      <th>1</th>\n",
       "      <td>0.220606</td>\n",
       "      <td>0.364662</td>\n",
       "      <td>0.231110</td>\n",
       "    </tr>\n",
       "    <tr>\n",
       "      <th>2</th>\n",
       "      <td>0.091184</td>\n",
       "      <td>0.216195</td>\n",
       "      <td>0.018762</td>\n",
       "    </tr>\n",
       "    <tr>\n",
       "      <th>3</th>\n",
       "      <td>0.860429</td>\n",
       "      <td>0.204883</td>\n",
       "      <td>0.678121</td>\n",
       "    </tr>\n",
       "  </tbody>\n",
       "</table>\n",
       "</div>"
      ],
      "text/plain": [
       "   accuracy  precision    recall\n",
       "1  0.220606   0.364662  0.231110\n",
       "2  0.091184   0.216195  0.018762\n",
       "3  0.860429   0.204883  0.678121"
      ]
     },
     "execution_count": 5,
     "metadata": {},
     "output_type": "execute_result"
    }
   ],
   "source": [
    "# evaluate results\n",
    "pd.DataFrame(results).T"
   ]
  },
  {
   "cell_type": "markdown",
   "id": "9a4fca11-7400-4c8b-a21a-42d3c889b6a3",
   "metadata": {},
   "source": [
    "# Discussions & Next steps\n",
    "Describe findings & future directions"
   ]
  }
 ],
 "metadata": {
  "kernelspec": {
   "display_name": "Python 3 (ipykernel)",
   "language": "python",
   "name": "python3"
  },
  "language_info": {
   "codemirror_mode": {
    "name": "ipython",
    "version": 3
   },
   "file_extension": ".py",
   "mimetype": "text/x-python",
   "name": "python",
   "nbconvert_exporter": "python",
   "pygments_lexer": "ipython3",
   "version": "3.9.5"
  }
 },
 "nbformat": 4,
 "nbformat_minor": 5
}
